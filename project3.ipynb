{
  "nbformat": 4,
  "nbformat_minor": 0,
  "metadata": {
    "colab": {
      "name": "project3.ipynb",
      "provenance": [],
      "collapsed_sections": []
    },
    "kernelspec": {
      "display_name": "Python 3",
      "name": "python3"
    },
    "language_info": {
      "name": "python"
    }
  },
  "cells": [
    {
      "cell_type": "markdown",
      "metadata": {
        "id": "X_MJx9xsehNJ"
      },
      "source": [
        "##Importing Libraries"
      ]
    },
    {
      "cell_type": "code",
      "metadata": {
        "id": "OfcjWJcvYPH-"
      },
      "source": [
        "import numpy as np"
      ],
      "execution_count": null,
      "outputs": []
    },
    {
      "cell_type": "markdown",
      "metadata": {
        "id": "CeCbX_zgemDD"
      },
      "source": [
        "Importing DeepChem"
      ]
    },
    {
      "cell_type": "code",
      "metadata": {
        "colab": {
          "base_uri": "https://localhost:8080/"
        },
        "id": "cGnYuwQ_VyRW",
        "outputId": "2fee4655-e73f-46c5-8d89-a884d92c9b65"
      },
      "source": [
        "!curl -Lo conda_installer.py https://raw.githubusercontent.com/deepchem/deepchem/master/scripts/colab_install.py\n",
        "import conda_installer\n",
        "conda_installer.install()\n",
        "!/root/miniconda/bin/conda info -e\n",
        "!pip install --pre deepchem\n",
        "import deepchem as dc"
      ],
      "execution_count": null,
      "outputs": [
        {
          "output_type": "stream",
          "text": [
            "  % Total    % Received % Xferd  Average Speed   Time    Time     Time  Current\n",
            "                                 Dload  Upload   Total   Spent    Left  Speed\n",
            "100  3501  100  3501    0     0  17862      0 --:--:-- --:--:-- --:--:-- 17862\n"
          ],
          "name": "stdout"
        },
        {
          "output_type": "stream",
          "text": [
            "add /root/miniconda/lib/python3.7/site-packages to PYTHONPATH\n",
            "python version: 3.7.10\n",
            "fetching installer from https://repo.continuum.io/miniconda/Miniconda3-latest-Linux-x86_64.sh\n",
            "done\n",
            "installing miniconda to /root/miniconda\n",
            "done\n",
            "installing rdkit, openmm, pdbfixer\n",
            "added conda-forge to channels\n",
            "added omnia to channels\n",
            "done\n",
            "conda packages installation finished!\n"
          ],
          "name": "stderr"
        },
        {
          "output_type": "stream",
          "text": [
            "# conda environments:\n",
            "#\n",
            "base                  *  /root/miniconda\n",
            "\n",
            "Collecting deepchem\n",
            "\u001b[?25l  Downloading https://files.pythonhosted.org/packages/5d/6e/1b8a3295f9eac3da3813b44300a68b108ef2f2c8060a9ce12863b30c13a2/deepchem-2.6.0.dev20210520034915-py3-none-any.whl (564kB)\n",
            "\u001b[K     |████████████████████████████████| 573kB 8.0MB/s \n",
            "\u001b[?25hRequirement already satisfied: scipy in /usr/local/lib/python3.7/dist-packages (from deepchem) (1.4.1)\n",
            "Requirement already satisfied: joblib in /usr/local/lib/python3.7/dist-packages (from deepchem) (1.0.1)\n",
            "Requirement already satisfied: pandas in /usr/local/lib/python3.7/dist-packages (from deepchem) (1.1.5)\n",
            "Requirement already satisfied: scikit-learn in /usr/local/lib/python3.7/dist-packages (from deepchem) (0.22.2.post1)\n",
            "Requirement already satisfied: numpy in /usr/local/lib/python3.7/dist-packages (from deepchem) (1.19.5)\n",
            "Requirement already satisfied: pytz>=2017.2 in /usr/local/lib/python3.7/dist-packages (from pandas->deepchem) (2018.9)\n",
            "Requirement already satisfied: python-dateutil>=2.7.3 in /usr/local/lib/python3.7/dist-packages (from pandas->deepchem) (2.8.1)\n",
            "Requirement already satisfied: six>=1.5 in /usr/local/lib/python3.7/dist-packages (from python-dateutil>=2.7.3->pandas->deepchem) (1.15.0)\n",
            "Installing collected packages: deepchem\n",
            "Successfully installed deepchem-2.6.0.dev20210520034915\n"
          ],
          "name": "stdout"
        }
      ]
    },
    {
      "cell_type": "code",
      "metadata": {
        "id": "4IA32th2j5bH"
      },
      "source": [
        "from deepchem.models.layers import GraphConv, GraphGather\n",
        "import tensorflow as tf\n",
        "from tensorflow import keras\n",
        "from tensorflow.keras import layers\n",
        "from deepchem.feat.mol_graphs import ConvMol"
      ],
      "execution_count": null,
      "outputs": []
    },
    {
      "cell_type": "markdown",
      "metadata": {
        "id": "DeaKYgwRQBST"
      },
      "source": [
        "#Model"
      ]
    },
    {
      "cell_type": "code",
      "metadata": {
        "id": "ljSegux1fRVf"
      },
      "source": [
        "class MyGraphConvModel(tf.keras.Model):\n",
        "\n",
        "  def __init__(self):\n",
        "    super(MyGraphConvModel, self).__init__()\n",
        "    self.gc1 = GraphConv(128, activation_fn=tf.nn.relu)\n",
        "\n",
        "    self.drop = layers.Dropout(rate=0.2)\n",
        "\n",
        "    self.gc2 = GraphConv(128, activation_fn=tf.nn.relu)\n",
        "\n",
        "    self.readout = GraphGather(batch_size=batch_size, activation_fn=tf.nn.relu)\n",
        "\n",
        "    self.dense1 = layers.Dense(256, activation=tf.nn.relu)\n",
        "\n",
        "    self.dense2 = layers.Dense(128, activation=tf.nn.relu)\n",
        "\n",
        "    self.dense3 = layers.Dense(64, activation=tf.nn.relu)\n",
        "\n",
        "    self.dense4 = layers.Dense(32, activation=tf.nn.relu)\n",
        "\n",
        "    self.dense5 = layers.Dense(1)\n",
        "\n",
        "  def call(self, inputs):\n",
        "\n",
        "    gc1_output = self.gc1(inputs)\n",
        "\n",
        "    drop_output = self.drop(gc1_output)\n",
        "\n",
        "    gc2_output = self.gc2([drop_output]+ inputs[1:])  \n",
        "\n",
        "    readout_output = self.readout([gc2_output] + inputs[1:])  \n",
        "\n",
        "    dense1_output = self.dense1(readout_output)\n",
        " \n",
        "    dense2_output = self.dense2(dense1_output)\n",
        "\n",
        "    dense3_output = self.dense3(dense2_output)\n",
        "    \n",
        "    dense4_output = self.dense4(dense3_output)\n",
        "\n",
        "    output = self.dense5(dense4_output)\n",
        "    return output\n"
      ],
      "execution_count": null,
      "outputs": []
    },
    {
      "cell_type": "markdown",
      "metadata": {
        "id": "qb4Pq6TUabqF"
      },
      "source": [
        "#Preparing Data"
      ]
    },
    {
      "cell_type": "code",
      "metadata": {
        "id": "gmnpU9Zvi-nV"
      },
      "source": [
        "def data_generator(dataset, epochs=1):\n",
        "  for ind, (X_b, y_b, w_b, ids_b) in enumerate(dataset.iterbatches(batch_size, epochs,\n",
        "                                                                   deterministic=True, pad_batches=True)):\n",
        "    multiConvMol = ConvMol.agglomerate_mols(X_b)\n",
        "    inputs = [multiConvMol.get_atom_features(), multiConvMol.deg_slice, np.array(multiConvMol.membership)]\n",
        "    for i in range(1, len(multiConvMol.get_deg_adjacency_lists())):\n",
        "      inputs.append(multiConvMol.get_deg_adjacency_lists()[i])\n",
        "    \n",
        "    y = [y_b]\n",
        "    weights = [w_b]\n",
        "    yield (inputs, y, weights)"
      ],
      "execution_count": null,
      "outputs": []
    },
    {
      "cell_type": "markdown",
      "metadata": {
        "id": "uT5Y4MItuoJE"
      },
      "source": [
        "#Splitting Data"
      ]
    },
    {
      "cell_type": "code",
      "metadata": {
        "id": "F7k93CfWaoW8"
      },
      "source": [
        "splitters = ['random', 'scaffold', 'butina']\n",
        "\n",
        "my_featurizer = dc.feat.ConvMolFeaturizer(use_chirality=True)\n",
        "\n",
        "tasks, datasets, transformers = dc.molnet.load_bace_regression(featurizer=my_featurizer, splitter=splitters[0])\n",
        "train_dataset, valid_dataset, test_dataset = datasets\n",
        "\n",
        "batch_size = 64"
      ],
      "execution_count": null,
      "outputs": []
    },
    {
      "cell_type": "code",
      "metadata": {
        "colab": {
          "base_uri": "https://localhost:8080/"
        },
        "id": "4zZilfN21PUS",
        "outputId": "287e02de-195a-44e8-d3f0-b71c1e373d7f"
      },
      "source": [
        "len(train_dataset.X)"
      ],
      "execution_count": null,
      "outputs": [
        {
          "output_type": "execute_result",
          "data": {
            "text/plain": [
              "1210"
            ]
          },
          "metadata": {
            "tags": []
          },
          "execution_count": 8
        }
      ]
    },
    {
      "cell_type": "markdown",
      "metadata": {
        "id": "6qr3ENt1alsM"
      },
      "source": [
        "#Fitting the model "
      ]
    },
    {
      "cell_type": "code",
      "metadata": {
        "colab": {
          "base_uri": "https://localhost:8080/"
        },
        "id": "t9mj1R3rtD4o",
        "outputId": "e25e2907-6d68-4903-dc12-5409f527d083"
      },
      "source": [
        "import warnings\n",
        "warnings.filterwarnings('ignore')\n",
        "\n",
        "model = dc.models.KerasModel(MyGraphConvModel(), loss=dc.models.losses.L2Loss())\n",
        "losses = []\n",
        "model.fit_generator(data_generator(train_dataset, epochs=512), all_losses= losses)"
      ],
      "execution_count": null,
      "outputs": [
        {
          "output_type": "stream",
          "text": [
            "WARNING:tensorflow:From /usr/local/lib/python3.7/dist-packages/tensorflow/python/ops/array_ops.py:5049: calling gather (from tensorflow.python.ops.array_ops) with validate_indices is deprecated and will be removed in a future version.\n",
            "Instructions for updating:\n",
            "The `validate_indices` argument has no effect. Indices are always validated on CPU and never validated on GPU.\n"
          ],
          "name": "stdout"
        },
        {
          "output_type": "execute_result",
          "data": {
            "text/plain": [
              "0.020078825099127635"
            ]
          },
          "metadata": {
            "tags": []
          },
          "execution_count": 9
        }
      ]
    },
    {
      "cell_type": "code",
      "metadata": {
        "colab": {
          "base_uri": "https://localhost:8080/",
          "height": 282
        },
        "id": "EUYvhBMhzQN_",
        "outputId": "8ced77db-5229-44cb-bffb-1b5b0af1a894"
      },
      "source": [
        "import matplotlib.pyplot as plt\n",
        "\n",
        "index = np.arange(len(losses)) \n",
        "plt.plot(index, losses)"
      ],
      "execution_count": null,
      "outputs": [
        {
          "output_type": "execute_result",
          "data": {
            "text/plain": [
              "[<matplotlib.lines.Line2D at 0x7eff2cd88d90>]"
            ]
          },
          "metadata": {
            "tags": []
          },
          "execution_count": 10
        },
        {
          "output_type": "display_data",
          "data": {
            "image/png": "[encoded data removed]",
            "text/plain": [
              "<Figure size 432x288 with 1 Axes>"
            ]
          },
          "metadata": {
            "tags": [],
            "needs_background": "light"
          }
        }
      ]
    },
    {
      "cell_type": "markdown",
      "metadata": {
        "id": "gCHqWm9na4EU"
      },
      "source": [
        "#Summary"
      ]
    },
    {
      "cell_type": "code",
      "metadata": {
        "id": "_g4kz7AFFPAJ",
        "colab": {
          "base_uri": "https://localhost:8080/"
        },
        "outputId": "4112d930-f22e-4949-c8e0-e4f56f027542"
      },
      "source": [
        "print(model.model.summary())"
      ],
      "execution_count": null,
      "outputs": [
        {
          "output_type": "stream",
          "text": [
            "Model: \"my_graph_conv_model\"\n",
            "_________________________________________________________________\n",
            "Layer (type)                 Output Shape              Param #   \n",
            "=================================================================\n",
            "graph_conv (GraphConv)       multiple                  212352    \n",
            "_________________________________________________________________\n",
            "dropout (Dropout)            multiple                  0         \n",
            "_________________________________________________________________\n",
            "graph_conv_1 (GraphConv)     multiple                  346752    \n",
            "_________________________________________________________________\n",
            "graph_gather (GraphGather)   multiple                  0         \n",
            "_________________________________________________________________\n",
            "dense (Dense)                multiple                  65792     \n",
            "_________________________________________________________________\n",
            "dense_1 (Dense)              multiple                  32896     \n",
            "_________________________________________________________________\n",
            "dense_2 (Dense)              multiple                  8256      \n",
            "_________________________________________________________________\n",
            "dense_3 (Dense)              multiple                  2080      \n",
            "_________________________________________________________________\n",
            "dense_4 (Dense)              multiple                  33        \n",
            "=================================================================\n",
            "Total params: 668,161\n",
            "Trainable params: 668,161\n",
            "Non-trainable params: 0\n",
            "_________________________________________________________________\n",
            "None\n"
          ],
          "name": "stdout"
        }
      ]
    },
    {
      "cell_type": "markdown",
      "metadata": {
        "id": "lRHwRseLa7a7"
      },
      "source": [
        "#Metrics"
      ]
    },
    {
      "cell_type": "code",
      "metadata": {
        "id": "CUyN4Q3bZeHC",
        "colab": {
          "base_uri": "https://localhost:8080/"
        },
        "outputId": "6a5af40c-5ffa-47b5-a93b-293b68344811"
      },
      "source": [
        "pearson = dc.metrics.Metric(dc.metrics.pearson_r2_score)\n",
        "rms = dc.metrics.Metric(dc.metrics.rms_score)\n",
        "mae = dc.metrics.Metric(dc.metrics.mae_score)\n",
        "\n",
        "#square of Pearson correlation\n",
        "print('training set score:', model.evaluate_generator(data_generator(train_dataset), [pearson], transformers))\n",
        "print('test set score L2:', model.evaluate_generator(data_generator(test_dataset), [pearson], transformers))\n",
        "print('valid set score L2:', model.evaluate_generator(data_generator(valid_dataset), [pearson], transformers))\n",
        "# root mean square error\n",
        "print('test set score rms:', model.evaluate_generator(data_generator(test_dataset), [rms], transformers))\n",
        "# mean absolute error\n",
        "print('test set score mae:', model.evaluate_generator(data_generator(test_dataset), [mae], transformers))\n",
        "# mean squared error\n",
        "print('test set mse:', model.evaluate_generator(data_generator(test_dataset), [dc.metrics.Metric(dc.metrics.mean_squared_error)], transformers))"
      ],
      "execution_count": null,
      "outputs": [
        {
          "output_type": "stream",
          "text": [
            "training set score: {'pearson_r2_score': 0.9873045340191774}\n",
            "test set score L2: {'pearson_r2_score': 0.7675296187555141}\n",
            "valid set score L2: {'pearson_r2_score': 0.7800773913540741}\n",
            "test set score rms: {'rms_score': 0.6626914724111712}\n",
            "test set score mae: {'mae_score': 0.5107073594757096}\n",
            "test set mse: {'mean_squared_error': 0.43915998760648617}\n"
          ],
          "name": "stdout"
        }
      ]
    },
    {
      "cell_type": "markdown",
      "metadata": {
        "id": "7qcRCRDyDsCh"
      },
      "source": [
        "#Build In"
      ]
    },
    {
      "cell_type": "code",
      "metadata": {
        "id": "CcBnp2oYCS34",
        "colab": {
          "base_uri": "https://localhost:8080/"
        },
        "outputId": "1146329f-f8d9-4533-8b82-48720417b6aa"
      },
      "source": [
        "model = dc.models.GraphConvModel(1, mode='regression')\n",
        "model.fit(train_dataset, nb_epoch=512)"
      ],
      "execution_count": null,
      "outputs": [
        {
          "output_type": "execute_result",
          "data": {
            "text/plain": [
              "0.012536178742136275"
            ]
          },
          "metadata": {
            "tags": []
          },
          "execution_count": 13
        }
      ]
    },
    {
      "cell_type": "code",
      "metadata": {
        "id": "DnDedwUNCkE5",
        "colab": {
          "base_uri": "https://localhost:8080/"
        },
        "outputId": "f9b2d76e-a808-433c-91f3-27efec93160e"
      },
      "source": [
        "metric = dc.metrics.Metric(dc.metrics.pearson_r2_score)\n",
        "rms = dc.metrics.Metric(dc.metrics.rms_score)\n",
        "print('Training set score:', model.evaluate(train_dataset, [metric], transformers))\n",
        "print('Test set score:', model.evaluate(test_dataset, [metric], transformers))\n",
        "print('Test set rms:', model.evaluate(test_dataset, [rms], transformers))"
      ],
      "execution_count": null,
      "outputs": [
        {
          "output_type": "stream",
          "text": [
            "Training set score: {'pearson_r2_score': 0.9884575544418016}\n",
            "Test set score: {'pearson_r2_score': 0.7372873532752113}\n",
            "Test set rms: {'rms_score': 0.6857388782302234}\n"
          ],
          "name": "stdout"
        }
      ]
    }
  ]
}